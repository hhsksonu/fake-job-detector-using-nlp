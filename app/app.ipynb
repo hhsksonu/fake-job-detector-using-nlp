{
  "cells": [
    {
      "cell_type": "code",
      "execution_count": null,
      "metadata": {
        "colab": {
          "base_uri": "https://localhost:8080/"
        },
        "id": "LNSAY8_LvCVS",
        "outputId": "c4d5bdd7-a9ad-45dd-ad38-ad22f876623b"
      },
      "outputs": [],
      "source": [
        "%%writefile app.py\n",
        "import streamlit as st\n",
        "import joblib\n",
        "import numpy as np\n",
        "import shap\n",
        "import matplotlib.pyplot as plt\n",
        "\n",
        "# load model and vectorizer\n",
        "model = joblib.load(\"xgb_fake_job_model.pkl\")\n",
        "vectorizer = joblib.load(\"tfidf_vectorizer.pkl\")\n",
        "\n",
        "# Initialize SHAP\n",
        "shap.initjs()\n",
        "explainer = shap.Explainer(model)\n",
        "\n",
        "# streamlit UI\n",
        "st.title(\"Fake Job Post Detector\")\n",
        "st.write(\"Paste a job posting text below to find out if it is potentially fake.\")\n",
        "\n",
        "user_input = st.text_area(\"Enter Job Posting Text:\", height=300)\n",
        "\n",
        "if st.button(\"Predict\"):\n",
        "    if user_input.strip() == \"\":\n",
        "        st.warning(\"Please enter some text to analyze.\")\n",
        "    else:\n",
        "        # vectorize input\n",
        "        input_vector = vectorizer.transform([user_input])\n",
        "\n",
        "        # make prediction\n",
        "        prediction = model.predict(input_vector)[0]\n",
        "        proba = model.predict_proba(input_vector)[0]\n",
        "\n",
        "        # show prediction result\n",
        "        if prediction == 1:\n",
        "            st.error(f\"This job post is likely **FAKE** (Confidence: {proba[1]*100:.2f}%)\")\n",
        "        else:\n",
        "            st.success(f\"This job post is likely **REAL** (Confidence: {proba[0]*100:.2f}%)\")\n",
        "\n",
        "        # SHAP explanation\n",
        "        st.write(\"### 🔍 SHAP Explanation\")\n",
        "        try:\n",
        "            # SHAP expects dense input for some models\n",
        "            input_dense = input_vector.toarray()\n",
        "            shap_values = explainer(input_dense)\n",
        "\n",
        "            # add actual feature names to SHAP values\n",
        "            feature_names = vectorizer.get_feature_names_out().tolist()\n",
        "            shap_values.feature_names = feature_names\n",
        "\n",
        "            # waterfall plot for a single sample\n",
        "            fig, ax = plt.subplots(figsize=(10, 5))\n",
        "            shap.plots.waterfall(shap_values[0], show=False, max_display=15)\n",
        "            st.pyplot(fig)\n",
        "\n",
        "        except Exception as e:\n",
        "            st.warning(\"SHAP explanation failed. Reason: \" + str(e))"
      ]
    },
    {
      "cell_type": "code",
      "execution_count": null,
      "metadata": {
        "colab": {
          "base_uri": "https://localhost:8080/"
        },
        "id": "mKGNZJTzv8MN",
        "outputId": "d5b53be1-588c-48e9-b4ac-5e2b38f4a705"
      },
      "outputs": [],
      "source": [
        "!ngrok config add-authtoken YOUR_NGROK_AUTHTOKEN "
      ]
    },
    {
      "cell_type": "markdown",
      "metadata": {
        "id": "ROW1mOnwv9xm"
      },
      "source": [
        "Run Streamlit via ngrok:"
      ]
    },
    {
      "cell_type": "code",
      "execution_count": 21,
      "metadata": {
        "colab": {
          "base_uri": "https://localhost:8080/"
        },
        "id": "T6T3U__53s40",
        "outputId": "460e70d4-88a5-48db-8e20-87a5aed3a0f5"
      },
      "outputs": [],
      "source": [
        "from pyngrok import ngrok\n",
        "import time\n",
        "import threading\n",
        "\n",
        "# function to run Streamlit app\n",
        "def run_streamlit():\n",
        "    !streamlit run app.py\n",
        "\n",
        "# start streamlit in a separate thread\n",
        "thread = threading.Thread(target=run_streamlit)\n",
        "thread.start()\n",
        "\n",
        "# wait a sec for streamlit to start\n",
        "time.sleep(5)\n",
        "\n",
        "# Open a tunnel on port 8501\n",
        "public_url = ngrok.connect(8501)\n",
        "print(\"Your app is live at:\", public_url)"
      ]
    }
  ],
  "metadata": {
    "colab": {
      "provenance": []
    },
    "kernelspec": {
      "display_name": "Python 3",
      "name": "python3"
    },
    "language_info": {
      "name": "python"
    }
  },
  "nbformat": 4,
  "nbformat_minor": 0
}
